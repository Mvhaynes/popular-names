{
 "cells": [
  {
   "cell_type": "code",
   "execution_count": 56,
   "metadata": {},
   "outputs": [],
   "source": [
    "import pandas as pd\n",
    "import matplotlib.pyplot as plt\n",
    "import numpy as np\n",
    "import datetime as dt\n",
    "import seaborn as sns\n",
    "import sqlalchemy\n",
    "import psycopg2\n",
    "from sqlalchemy import create_engine, func, inspect\n",
    "from sqlalchemy.ext.automap import automap_base\n",
    "from sqlalchemy.orm import Session\n",
    "from config import password"
   ]
  },
  {
   "cell_type": "code",
   "execution_count": 57,
   "metadata": {},
   "outputs": [],
   "source": [
    "# Connect to PostgreSQL database\n",
    "rds_connection_string = f\"postgres:\" + password + \"@localhost:5432/names\"\n",
    "engine = create_engine(f'postgresql://{rds_connection_string}')\n",
    "\n",
    "# Automap and reflect\n",
    "base = automap_base()\n",
    "base.prepare(engine, reflect=True)\n",
    "names = base.classes.name_table\n",
    "\n",
    "# Create session\n",
    "session = Session(engine)"
   ]
  },
  {
   "cell_type": "code",
   "execution_count": 58,
   "metadata": {},
   "outputs": [
    {
     "name": "stdout",
     "output_type": "stream",
     "text": [
      "id INTEGER\n",
      "name VARCHAR(30)\n",
      "year INTEGER\n",
      "gender VARCHAR(1)\n",
      "count INTEGER\n"
     ]
    }
   ],
   "source": [
    "# Print columns\n",
    "inspector = inspect(engine)\n",
    "columns = inspector.get_columns('name_table')\n",
    "for column in columns:\n",
    "    print(column[\"name\"],column[\"type\"])"
   ]
  },
  {
   "cell_type": "code",
   "execution_count": 59,
   "metadata": {},
   "outputs": [],
   "source": [
    "## Quick functions \n",
    "def barchart(x, y, title):\n",
    "    axis = np.arange(len(x))\n",
    "    plt.bar(x, y, color='cornflowerblue')\n",
    "    plt.xticks(axis, x, rotation=45)\n",
    "    plt.title(title)\n",
    "    plt.show()\n",
    "    \n",
    "# Group by names, gender and add total count (separates unisex names)\n",
    "def by_gender(df, gender):\n",
    "    total = pd.DataFrame({'Total_Count' : df.groupby([\"Name\", \"Gender\"]).size()}).reset_index()\n",
    "    top_names = total[total['Gender'] == gender]\n",
    "    top_names = top_names.sort_values(by=['Total_Count'], ascending=False).head(10).reset_index(drop=True)\n",
    "    return top_names"
   ]
  },
  {
   "cell_type": "markdown",
   "metadata": {},
   "source": [
    "## Most popular names"
   ]
  },
  {
   "cell_type": "markdown",
   "metadata": {},
   "source": [
    "#### Top names overall"
   ]
  },
  {
   "cell_type": "code",
   "execution_count": 60,
   "metadata": {},
   "outputs": [],
   "source": [
    "# Find the most recent date in the data set.\n",
    "recent_year = session.query(names.year).order_by(names.year.desc()).first()\n",
    "recent_year = recent_year[0]\n",
    "\n",
    "# Calculate 10 years prior \n",
    "decade = recent_year - 10"
   ]
  },
  {
   "cell_type": "code",
   "execution_count": 61,
   "metadata": {},
   "outputs": [],
   "source": [
    "# Top 10 most popular names \n",
    "top_names = session.query(names.name, func.sum(names.count))\\\n",
    "            .group_by(names.name)\\\n",
    "            .order_by(func.sum(names.count).desc()).limit(10).all()"
   ]
  },
  {
   "cell_type": "code",
   "execution_count": 62,
   "metadata": {},
   "outputs": [
    {
     "data": {
      "image/png": "[encoded data removed]",
      "text/plain": [
       "<Figure size 432x288 with 1 Axes>"
      ]
     },
     "metadata": {
      "needs_background": "light"
     },
     "output_type": "display_data"
    }
   ],
   "source": [
    "# Convert to dataframe\n",
    "top_names_df = pd.DataFrame(top_names, columns=['Name', 'Count'])\n",
    "\n",
    "# Show as barchart\n",
    "barchart(top_names_df.Name, top_names_df.Count, 'Top 10 Most Popular Names')"
   ]
  },
  {
   "cell_type": "markdown",
   "metadata": {},
   "source": [
    "#### Top Names By Gender"
   ]
  },
  {
   "cell_type": "code",
   "execution_count": 81,
   "metadata": {},
   "outputs": [],
   "source": [
    "# Top 10 names by gender\n",
    "top_female_names = session.query(names.name, func.sum(names.count))\\\n",
    "                .filter(names.gender == 'F')\\\n",
    "                .group_by(names.name).order_by(func.sum(names.count).desc()).limit(10).all()\n",
    "\n",
    "top_male_names = session.query(names.name, func.sum(names.count))\\\n",
    "                .filter(names.gender == 'M')\\\n",
    "                .group_by(names.name).order_by(func.sum(names.count).desc()).limit(10).all()"
   ]
  },
  {
   "cell_type": "code",
   "execution_count": 82,
   "metadata": {},
   "outputs": [
    {
     "data": {
      "text/html": [
       "<div>\n",
       "<style scoped>\n",
       "    .dataframe tbody tr th:only-of-type {\n",
       "        vertical-align: middle;\n",
       "    }\n",
       "\n",
       "    .dataframe tbody tr th {\n",
       "        vertical-align: top;\n",
       "    }\n",
       "\n",
       "    .dataframe thead th {\n",
       "        text-align: right;\n",
       "    }\n",
       "</style>\n",
       "<table border=\"1\" class=\"dataframe\">\n",
       "  <thead>\n",
       "    <tr style=\"text-align: right;\">\n",
       "      <th></th>\n",
       "      <th>Name</th>\n",
       "      <th>Count</th>\n",
       "    </tr>\n",
       "  </thead>\n",
       "  <tbody>\n",
       "    <tr>\n",
       "      <th>0</th>\n",
       "      <td>James</td>\n",
       "      <td>5105919</td>\n",
       "    </tr>\n",
       "    <tr>\n",
       "      <th>1</th>\n",
       "      <td>John</td>\n",
       "      <td>5084943</td>\n",
       "    </tr>\n",
       "    <tr>\n",
       "      <th>2</th>\n",
       "      <td>Robert</td>\n",
       "      <td>4796695</td>\n",
       "    </tr>\n",
       "    <tr>\n",
       "      <th>3</th>\n",
       "      <td>Michael</td>\n",
       "      <td>4309198</td>\n",
       "    </tr>\n",
       "    <tr>\n",
       "      <th>4</th>\n",
       "      <td>William</td>\n",
       "      <td>4055473</td>\n",
       "    </tr>\n",
       "    <tr>\n",
       "      <th>5</th>\n",
       "      <td>David</td>\n",
       "      <td>3577704</td>\n",
       "    </tr>\n",
       "    <tr>\n",
       "      <th>6</th>\n",
       "      <td>Joseph</td>\n",
       "      <td>2570095</td>\n",
       "    </tr>\n",
       "    <tr>\n",
       "      <th>7</th>\n",
       "      <td>Richard</td>\n",
       "      <td>2555330</td>\n",
       "    </tr>\n",
       "    <tr>\n",
       "      <th>8</th>\n",
       "      <td>Charles</td>\n",
       "      <td>2364332</td>\n",
       "    </tr>\n",
       "    <tr>\n",
       "      <th>9</th>\n",
       "      <td>Thomas</td>\n",
       "      <td>2283080</td>\n",
       "    </tr>\n",
       "  </tbody>\n",
       "</table>\n",
       "</div>"
      ],
      "text/plain": [
       "      Name    Count\n",
       "0    James  5105919\n",
       "1     John  5084943\n",
       "2   Robert  4796695\n",
       "3  Michael  4309198\n",
       "4  William  4055473\n",
       "5    David  3577704\n",
       "6   Joseph  2570095\n",
       "7  Richard  2555330\n",
       "8  Charles  2364332\n",
       "9   Thomas  2283080"
      ]
     },
     "execution_count": 82,
     "metadata": {},
     "output_type": "execute_result"
    }
   ],
   "source": [
    "# Convert to dataframe\n",
    "female_names_df = pd.DataFrame(top_female_names, columns=['Name','Count'])\n",
    "male_names_df = pd.DataFrame(top_male_names, columns=['Name','Count'])\n",
    "male_names_df"
   ]
  },
  {
   "cell_type": "code",
   "execution_count": 83,
   "metadata": {},
   "outputs": [
    {
     "data": {
      "image/png": "[encoded data removed]",
      "text/plain": [
       "<Figure size 432x288 with 1 Axes>"
      ]
     },
     "metadata": {
      "needs_background": "light"
     },
     "output_type": "display_data"
    },
    {
     "data": {
      "image/png": "[encoded data removed]",
      "text/plain": [
       "<Figure size 432x288 with 1 Axes>"
      ]
     },
     "metadata": {
      "needs_background": "light"
     },
     "output_type": "display_data"
    }
   ],
   "source": [
    "# Barcharts\n",
    "barchart(female_names_df.Name, female_names_df.Count, 'Top 10 Female Names')\n",
    "barchart(male_names_df.Name, male_names_df.Count, 'Top 10 Male Names')"
   ]
  },
  {
   "cell_type": "markdown",
   "metadata": {},
   "source": [
    "### Top names in the last 10 years\n",
    "Overall"
   ]
  },
  {
   "cell_type": "code",
   "execution_count": null,
   "metadata": {},
   "outputs": [],
   "source": []
  },
  {
   "cell_type": "markdown",
   "metadata": {},
   "source": [
    "By Gender"
   ]
  },
  {
   "cell_type": "code",
   "execution_count": null,
   "metadata": {},
   "outputs": [],
   "source": []
  },
  {
   "cell_type": "code",
   "execution_count": null,
   "metadata": {},
   "outputs": [],
   "source": []
  },
  {
   "cell_type": "code",
   "execution_count": null,
   "metadata": {},
   "outputs": [],
   "source": []
  },
  {
   "cell_type": "markdown",
   "metadata": {},
   "source": [
    "## Popularity over time \n",
    "* Uses relative popularity (due to changes in population over time)"
   ]
  },
  {
   "cell_type": "code",
   "execution_count": null,
   "metadata": {},
   "outputs": [],
   "source": [
    "# # Sorts by name and year (combines unisex names)\n",
    "# name_df = names.groupby([\"Name\", \"Year\"]).sum().reset_index()\n",
    "\n",
    "# # Relative popularity (For each name: Name count / Total annual count)\n",
    "# def relative_popularity(df):\n",
    "#     for i, row in df.iterrows():\n",
    "#         count = row['Count']\n",
    "#         year = row['Year']\n",
    "#         year_total = df.loc[df['Year'] == year, 'Count'].sum()\n",
    "#         df.loc[i,'Relative'] = count / year_total\n",
    "# relative_popularity(name_df)\n",
    "# name_df"
   ]
  },
  {
   "cell_type": "code",
   "execution_count": null,
   "metadata": {},
   "outputs": [],
   "source": [
    "# Top trending overall in the last 10 years\n",
    "# ten_years = name_df[name_df['Year'] >= decade]\n",
    "# ten_years = ten_years.groupby('Name').aggregate({'Relative': 'mean', 'Count': 'sum'}).reset_index()\n",
    "# ten_years_top = ten_years.sort_values(by=['Relative'], ascending=False).head(10).reset_index(drop=True)\n",
    "# ten_years_top"
   ]
  },
  {
   "cell_type": "code",
   "execution_count": null,
   "metadata": {},
   "outputs": [],
   "source": [
    "# for each name plot its relative count over time \n",
    "# x_labels = np.arange(1950,2015,1)\n",
    "# x_axis = len(x_labels)\n",
    "\n",
    "# group by name and year\n",
    "\n",
    "# name_df.set_index(['Year'])\n"
   ]
  },
  {
   "cell_type": "code",
   "execution_count": null,
   "metadata": {},
   "outputs": [],
   "source": [
    "# # https://www.python-graph-gallery.com/125-small-multiples-for-line-chart\n",
    "# name_df\n",
    "# df = name_df.sort_values(by=['Count'],ascending=False).head(15)\n",
    "# df"
   ]
  },
  {
   "cell_type": "code",
   "execution_count": null,
   "metadata": {},
   "outputs": [],
   "source": [
    "# df = name_df.sort_values(by=['Count'],ascending=False).head(15)\n",
    "# df = df.pivot(index='Year', columns='Name', values='Relative')\n",
    "# df = df.fillna(0)\n",
    "# df"
   ]
  },
  {
   "cell_type": "code",
   "execution_count": null,
   "metadata": {},
   "outputs": [],
   "source": [
    "# # Change the style of plot\n",
    "# plt.subplots(figsize=(10,10))\n",
    "# plt.style.use('seaborn-darkgrid')\n",
    " \n",
    "# # Create a color palette\n",
    "# palette = plt.get_cmap('Set1')\n",
    "\n",
    "# # Plot multiple lines\n",
    "# x=0\n",
    "# for column in df:\n",
    "#     x+=1\n",
    "#     plt.plot(df.index, df[column], marker='', color=palette(x), linewidth=1, alpha=0.9, label=column)\n",
    "\n",
    "\n",
    "# # Add legend\n",
    "# plt.legend(loc=2, ncol=2)\n",
    " \n",
    "# # Add titles\n",
    "# plt.title(\"A (bad) Spaghetti plot\", loc='left', fontsize=12, fontweight=0, color='orange')\n",
    "# plt.xlabel(\"Time\")\n",
    "# plt.ylabel(\"Score\")\n",
    "\n",
    "# # Show the graph\n",
    "# plt.show()\n"
   ]
  },
  {
   "cell_type": "code",
   "execution_count": null,
   "metadata": {},
   "outputs": [],
   "source": []
  },
  {
   "cell_type": "code",
   "execution_count": null,
   "metadata": {},
   "outputs": [],
   "source": []
  },
  {
   "cell_type": "code",
   "execution_count": null,
   "metadata": {},
   "outputs": [],
   "source": []
  },
  {
   "cell_type": "code",
   "execution_count": null,
   "metadata": {},
   "outputs": [],
   "source": []
  }
 ],
 "metadata": {
  "kernelspec": {
   "display_name": "Python 3",
   "language": "python",
   "name": "python3"
  },
  "language_info": {
   "codemirror_mode": {
    "name": "ipython",
    "version": 3
   },
   "file_extension": ".py",
   "mimetype": "text/x-python",
   "name": "python",
   "nbconvert_exporter": "python",
   "pygments_lexer": "ipython3",
   "version": "3.8.5"
  }
 },
 "nbformat": 4,
 "nbformat_minor": 4
}
